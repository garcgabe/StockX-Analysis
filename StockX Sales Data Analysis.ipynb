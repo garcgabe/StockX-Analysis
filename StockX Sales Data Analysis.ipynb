{
 "cells": [
  {
   "cell_type": "code",
   "execution_count": 1,
   "id": "04c1fa07",
   "metadata": {},
   "outputs": [],
   "source": [
    "import pandas as pd\n",
    "import seaborn as sns\n",
    "import matplotlib.pyplot as plt\n",
    "import numpy as np\n",
    "import os\n",
    "%matplotlib inline"
   ]
  },
  {
   "cell_type": "code",
   "execution_count": 2,
   "id": "1ff5cf83",
   "metadata": {},
   "outputs": [],
   "source": [
    "os.chdir('/Users/garcgabe/Downloads/side work')"
   ]
  },
  {
   "cell_type": "code",
   "execution_count": 3,
   "id": "3635beec",
   "metadata": {
    "scrolled": true
   },
   "outputs": [
    {
     "data": {
      "text/html": [
       "<div>\n",
       "<style scoped>\n",
       "    .dataframe tbody tr th:only-of-type {\n",
       "        vertical-align: middle;\n",
       "    }\n",
       "\n",
       "    .dataframe tbody tr th {\n",
       "        vertical-align: top;\n",
       "    }\n",
       "\n",
       "    .dataframe thead th {\n",
       "        text-align: right;\n",
       "    }\n",
       "</style>\n",
       "<table border=\"1\" class=\"dataframe\">\n",
       "  <thead>\n",
       "    <tr style=\"text-align: right;\">\n",
       "      <th></th>\n",
       "      <th>Order Date</th>\n",
       "      <th>Brand</th>\n",
       "      <th>Sneaker Name</th>\n",
       "      <th>Sale Price</th>\n",
       "      <th>Retail Price</th>\n",
       "      <th>Release Date</th>\n",
       "      <th>Shoe Size</th>\n",
       "      <th>Buyer Region</th>\n",
       "    </tr>\n",
       "  </thead>\n",
       "  <tbody>\n",
       "    <tr>\n",
       "      <th>0</th>\n",
       "      <td>9/1/17</td>\n",
       "      <td>Yeezy</td>\n",
       "      <td>Adidas-Yeezy-Boost-350-Low-V2-Beluga</td>\n",
       "      <td>$1,097</td>\n",
       "      <td>$220</td>\n",
       "      <td>9/24/16</td>\n",
       "      <td>11.0</td>\n",
       "      <td>California</td>\n",
       "    </tr>\n",
       "    <tr>\n",
       "      <th>1</th>\n",
       "      <td>9/1/17</td>\n",
       "      <td>Yeezy</td>\n",
       "      <td>Adidas-Yeezy-Boost-350-V2-Core-Black-Copper</td>\n",
       "      <td>$685</td>\n",
       "      <td>$220</td>\n",
       "      <td>11/23/16</td>\n",
       "      <td>11.0</td>\n",
       "      <td>California</td>\n",
       "    </tr>\n",
       "    <tr>\n",
       "      <th>2</th>\n",
       "      <td>9/1/17</td>\n",
       "      <td>Yeezy</td>\n",
       "      <td>Adidas-Yeezy-Boost-350-V2-Core-Black-Green</td>\n",
       "      <td>$690</td>\n",
       "      <td>$220</td>\n",
       "      <td>11/23/16</td>\n",
       "      <td>11.0</td>\n",
       "      <td>California</td>\n",
       "    </tr>\n",
       "    <tr>\n",
       "      <th>3</th>\n",
       "      <td>9/1/17</td>\n",
       "      <td>Yeezy</td>\n",
       "      <td>Adidas-Yeezy-Boost-350-V2-Core-Black-Red</td>\n",
       "      <td>$1,075</td>\n",
       "      <td>$220</td>\n",
       "      <td>11/23/16</td>\n",
       "      <td>11.5</td>\n",
       "      <td>Kentucky</td>\n",
       "    </tr>\n",
       "    <tr>\n",
       "      <th>4</th>\n",
       "      <td>9/1/17</td>\n",
       "      <td>Yeezy</td>\n",
       "      <td>Adidas-Yeezy-Boost-350-V2-Core-Black-Red-2017</td>\n",
       "      <td>$828</td>\n",
       "      <td>$220</td>\n",
       "      <td>2/11/17</td>\n",
       "      <td>11.0</td>\n",
       "      <td>Rhode Island</td>\n",
       "    </tr>\n",
       "    <tr>\n",
       "      <th>5</th>\n",
       "      <td>9/1/17</td>\n",
       "      <td>Yeezy</td>\n",
       "      <td>Adidas-Yeezy-Boost-350-V2-Core-Black-Red-2017</td>\n",
       "      <td>$798</td>\n",
       "      <td>$220</td>\n",
       "      <td>2/11/17</td>\n",
       "      <td>8.5</td>\n",
       "      <td>Michigan</td>\n",
       "    </tr>\n",
       "    <tr>\n",
       "      <th>6</th>\n",
       "      <td>9/1/17</td>\n",
       "      <td>Yeezy</td>\n",
       "      <td>Adidas-Yeezy-Boost-350-V2-Core-Black-White</td>\n",
       "      <td>$784</td>\n",
       "      <td>$220</td>\n",
       "      <td>12/17/16</td>\n",
       "      <td>11.0</td>\n",
       "      <td>California</td>\n",
       "    </tr>\n",
       "    <tr>\n",
       "      <th>7</th>\n",
       "      <td>9/1/17</td>\n",
       "      <td>Yeezy</td>\n",
       "      <td>Adidas-Yeezy-Boost-350-V2-Cream-White</td>\n",
       "      <td>$460</td>\n",
       "      <td>$220</td>\n",
       "      <td>4/29/17</td>\n",
       "      <td>10.0</td>\n",
       "      <td>New York</td>\n",
       "    </tr>\n",
       "    <tr>\n",
       "      <th>8</th>\n",
       "      <td>9/1/17</td>\n",
       "      <td>Yeezy</td>\n",
       "      <td>Adidas-Yeezy-Boost-350-V2-Cream-White</td>\n",
       "      <td>$465</td>\n",
       "      <td>$220</td>\n",
       "      <td>4/29/17</td>\n",
       "      <td>11.0</td>\n",
       "      <td>Kansas</td>\n",
       "    </tr>\n",
       "    <tr>\n",
       "      <th>9</th>\n",
       "      <td>9/1/17</td>\n",
       "      <td>Yeezy</td>\n",
       "      <td>Adidas-Yeezy-Boost-350-V2-Cream-White</td>\n",
       "      <td>$465</td>\n",
       "      <td>$220</td>\n",
       "      <td>4/29/17</td>\n",
       "      <td>11.0</td>\n",
       "      <td>Florida</td>\n",
       "    </tr>\n",
       "  </tbody>\n",
       "</table>\n",
       "</div>"
      ],
      "text/plain": [
       "  Order Date   Brand                                   Sneaker Name  \\\n",
       "0     9/1/17   Yeezy           Adidas-Yeezy-Boost-350-Low-V2-Beluga   \n",
       "1     9/1/17   Yeezy    Adidas-Yeezy-Boost-350-V2-Core-Black-Copper   \n",
       "2     9/1/17   Yeezy     Adidas-Yeezy-Boost-350-V2-Core-Black-Green   \n",
       "3     9/1/17   Yeezy       Adidas-Yeezy-Boost-350-V2-Core-Black-Red   \n",
       "4     9/1/17   Yeezy  Adidas-Yeezy-Boost-350-V2-Core-Black-Red-2017   \n",
       "5     9/1/17   Yeezy  Adidas-Yeezy-Boost-350-V2-Core-Black-Red-2017   \n",
       "6     9/1/17   Yeezy     Adidas-Yeezy-Boost-350-V2-Core-Black-White   \n",
       "7     9/1/17   Yeezy          Adidas-Yeezy-Boost-350-V2-Cream-White   \n",
       "8     9/1/17   Yeezy          Adidas-Yeezy-Boost-350-V2-Cream-White   \n",
       "9     9/1/17   Yeezy          Adidas-Yeezy-Boost-350-V2-Cream-White   \n",
       "\n",
       "  Sale Price Retail Price Release Date  Shoe Size  Buyer Region  \n",
       "0     $1,097         $220      9/24/16       11.0    California  \n",
       "1       $685         $220     11/23/16       11.0    California  \n",
       "2       $690         $220     11/23/16       11.0    California  \n",
       "3     $1,075         $220     11/23/16       11.5      Kentucky  \n",
       "4       $828         $220      2/11/17       11.0  Rhode Island  \n",
       "5       $798         $220      2/11/17        8.5      Michigan  \n",
       "6       $784         $220     12/17/16       11.0    California  \n",
       "7       $460         $220      4/29/17       10.0      New York  \n",
       "8       $465         $220      4/29/17       11.0        Kansas  \n",
       "9       $465         $220      4/29/17       11.0       Florida  "
      ]
     },
     "execution_count": 3,
     "metadata": {},
     "output_type": "execute_result"
    }
   ],
   "source": [
    "df = pd.read_csv(\"StockX-Data-Contest-2019-3.csv\")\n",
    "df.head(10)"
   ]
  },
  {
   "cell_type": "markdown",
   "id": "80bb76a8",
   "metadata": {},
   "source": [
    "## StockX Sales Data Analysis\n",
    "### For Yeezy and Nike Off-White Releases\n",
    "\n",
    "**StockX Data Description**\n",
    "\n",
    "The data  consists of a random sample of all Off-White x Nike and Yeezy 350 sales from between 9/1/2017 (the month that Off-White first debuted “The Ten” collection) and the present. There are 99,956 total sales in the data set; 27,794 Off-White sales, and 72,162 Yeezy sales. The sample consists of U.S. sales only.\n",
    "\n",
    "To create this sample, we took a random, fixed percentage of StockX sales (X%) for each colorway, on each day, since September 2017. So, for each day the Off-White Jordan 1 was on the market, we randomly selected X% of its sale from each day. (It’s not important to know what X is; all that matters is that it’s a random sample, and that the same fixed X% of sales was selected from every day, for every sneaker).\n",
    "\n",
    "To create this sample, we took a random, fixed percentage of StockX sales (X%) for each colorway, on each day, since September 2017. So, for each day the Off-White Jordan 1 was on the market, we randomly selected X% of its sale from each day. (It’s not important to know what X is; all that matters is that it’s a random sample, and that the same fixed X% of sales was selected from every day, for every sneaker).\n",
    "\n",
    "We’ve included 8 variables for you to work with: Order Date, Brand, Sneaker Name, Sale Price, Retail Price, Release Date, Shoe Size, and Buyer State (the U.S. state the buyer shipped to). You can use whatever variables you want in the analysis; you can use 1 variable, or you can use all 8. And remember, every row in the spreadsheet represents an individual StockX sale. There are no averages or order counts; this is just a random sample of daily sales data.\n",
    "\n",
    "\n",
    "\n",
    "\n",
    "\n",
    "#### Possible questions to investigate, assuming the seller bought at retail:\n",
    "\n",
    "###### 1. Which brand has the highest profit margin? \n",
    "\n",
    "###### 2. Which shoe has the highest profit margin?\n",
    "\n",
    "###### 3. Which state/region bought the most sneakers?\n",
    "\n",
    "###### 4. What is the distribution of shoe sizes? \n",
    "\n",
    "###### 5. What is the most expensive shoe?\n",
    "\n",
    "###### 6. What shoes are most popular?\n",
    "\n",
    "I don't plan to fully address each question, however I'll let these guide me in the analysis process. \n"
   ]
  },
  {
   "cell_type": "code",
   "execution_count": 4,
   "id": "c698aaec",
   "metadata": {
    "scrolled": true
   },
   "outputs": [
    {
     "name": "stdout",
     "output_type": "stream",
     "text": [
      "<class 'pandas.core.frame.DataFrame'>\n",
      "RangeIndex: 99956 entries, 0 to 99955\n",
      "Data columns (total 8 columns):\n",
      " #   Column        Non-Null Count  Dtype  \n",
      "---  ------        --------------  -----  \n",
      " 0   Order Date    99956 non-null  object \n",
      " 1   Brand         99956 non-null  object \n",
      " 2   Sneaker Name  99956 non-null  object \n",
      " 3   Sale Price    99956 non-null  object \n",
      " 4   Retail Price  99956 non-null  object \n",
      " 5   Release Date  99956 non-null  object \n",
      " 6   Shoe Size     99956 non-null  float64\n",
      " 7   Buyer Region  99956 non-null  object \n",
      "dtypes: float64(1), object(7)\n",
      "memory usage: 6.1+ MB\n"
     ]
    }
   ],
   "source": [
    "## Data set length of about 100,000 entries - all dtypes are objects except shoe size\n",
    "## Need to change: dollars to integers\n",
    "\n",
    "df.info()"
   ]
  },
  {
   "cell_type": "code",
   "execution_count": 5,
   "id": "283136fb",
   "metadata": {},
   "outputs": [],
   "source": [
    "# Changing Sale Price and Retail Price to integers\n",
    "\n",
    "sale_price_int = []\n",
    "for x in df['Sale Price']:\n",
    "    sale_price_int.append(x.replace(\"$\",\"\").replace(\",\",\"\"))\n",
    "    \n",
    "retail_price_int = []\n",
    "for y in df['Retail Price']:\n",
    "    retail_price_int.append(y.replace(\"$\",\"\").replace(\",\",\"\"))"
   ]
  },
  {
   "cell_type": "code",
   "execution_count": 6,
   "id": "162ccc62",
   "metadata": {
    "scrolled": true
   },
   "outputs": [],
   "source": [
    "# Replace numpy arrays in Pandas DataFrame\n",
    "df['Sale Price'] = sale_price_int\n",
    "df['Sale Price'] = df['Sale Price'].astype(str).astype(int)\n",
    "\n",
    "df['Retail Price'] = retail_price_int\n",
    "df['Retail Price'] = df['Retail Price'].astype(str).astype(int)"
   ]
  },
  {
   "cell_type": "code",
   "execution_count": 7,
   "id": "9845dc9c",
   "metadata": {
    "scrolled": true
   },
   "outputs": [
    {
     "name": "stdout",
     "output_type": "stream",
     "text": [
      "<class 'pandas.core.frame.DataFrame'>\n",
      "RangeIndex: 99956 entries, 0 to 99955\n",
      "Data columns (total 8 columns):\n",
      " #   Column        Non-Null Count  Dtype  \n",
      "---  ------        --------------  -----  \n",
      " 0   Order Date    99956 non-null  object \n",
      " 1   Brand         99956 non-null  object \n",
      " 2   Sneaker Name  99956 non-null  object \n",
      " 3   Sale Price    99956 non-null  int64  \n",
      " 4   Retail Price  99956 non-null  int64  \n",
      " 5   Release Date  99956 non-null  object \n",
      " 6   Shoe Size     99956 non-null  float64\n",
      " 7   Buyer Region  99956 non-null  object \n",
      "dtypes: float64(1), int64(2), object(5)\n",
      "memory usage: 6.1+ MB\n"
     ]
    }
   ],
   "source": [
    "## Prices are now integers\n",
    "df.info()"
   ]
  },
  {
   "cell_type": "code",
   "execution_count": 8,
   "id": "09722d17",
   "metadata": {
    "scrolled": true
   },
   "outputs": [
    {
     "data": {
      "text/plain": [
       "count    99956.00000\n",
       "mean       208.61359\n",
       "std         25.20001\n",
       "min        130.00000\n",
       "25%        220.00000\n",
       "50%        220.00000\n",
       "75%        220.00000\n",
       "max        250.00000\n",
       "Name: Retail Price, dtype: float64"
      ]
     },
     "execution_count": 8,
     "metadata": {},
     "output_type": "execute_result"
    }
   ],
   "source": [
    "# basic stats of Retail Price\n",
    "df['Retail Price'].describe()"
   ]
  },
  {
   "cell_type": "code",
   "execution_count": 9,
   "id": "30f0de7d",
   "metadata": {
    "scrolled": true
   },
   "outputs": [
    {
     "data": {
      "text/plain": [
       "220    71707\n",
       "190     7095\n",
       "160     6361\n",
       "170     5471\n",
       "130     3622\n",
       "250     3429\n",
       "200     2240\n",
       "150       31\n",
       "Name: Retail Price, dtype: int64"
      ]
     },
     "execution_count": 9,
     "metadata": {},
     "output_type": "execute_result"
    }
   ],
   "source": [
    "df['Retail Price'].value_counts()"
   ]
  },
  {
   "cell_type": "code",
   "execution_count": 10,
   "id": "81915f3e",
   "metadata": {},
   "outputs": [
    {
     "data": {
      "text/plain": [
       "220    71707\n",
       "200      455\n",
       "Name: Retail Price, dtype: int64"
      ]
     },
     "execution_count": 10,
     "metadata": {},
     "output_type": "execute_result"
    }
   ],
   "source": [
    "# Had suspicion that Yeezy always priced at $220\n",
    "df[df['Brand']==' Yeezy']['Retail Price'].value_counts()"
   ]
  },
  {
   "cell_type": "code",
   "execution_count": 11,
   "id": "4d63651b",
   "metadata": {},
   "outputs": [
    {
     "data": {
      "text/plain": [
       "190    7095\n",
       "160    6361\n",
       "170    5471\n",
       "130    3622\n",
       "250    3429\n",
       "200    1785\n",
       "150      31\n",
       "Name: Retail Price, dtype: int64"
      ]
     },
     "execution_count": 11,
     "metadata": {},
     "output_type": "execute_result"
    }
   ],
   "source": [
    "df[df['Brand']=='Off-White']['Retail Price'].value_counts()"
   ]
  },
  {
   "cell_type": "markdown",
   "id": "ce7733f9",
   "metadata": {},
   "source": [
    "As is expected with the data set (since it's a reseller marketplace) - most shoes share a retail price\n",
    "\n",
    "As shown in cells above - about 72% of shoes are sold at $220 - all of these being Yeezy's. The Off-White's retailed for different prices. "
   ]
  },
  {
   "cell_type": "code",
   "execution_count": 12,
   "id": "cdbd923a",
   "metadata": {
    "scrolled": true
   },
   "outputs": [
    {
     "data": {
      "text/plain": [
       "270    1641\n",
       "260    1523\n",
       "275    1349\n",
       "250    1287\n",
       "280    1270\n",
       "265    1238\n",
       "240    1208\n",
       "400    1046\n",
       "300    1017\n",
       "380     953\n",
       "Name: Sale Price, dtype: int64"
      ]
     },
     "execution_count": 12,
     "metadata": {},
     "output_type": "execute_result"
    }
   ],
   "source": [
    "# Seeing most commonly resold amounts\n",
    "# Fairly distributed since N is almost 100,000\n",
    "df['Sale Price'].value_counts()[0:10]"
   ]
  },
  {
   "cell_type": "code",
   "execution_count": 13,
   "id": "9c524526",
   "metadata": {},
   "outputs": [
    {
     "data": {
      "text/plain": [
       "59016"
      ]
     },
     "execution_count": 13,
     "metadata": {},
     "output_type": "execute_result"
    }
   ],
   "source": [
    "# Number of sales that were less than $400\n",
    "df[df['Sale Price']<400]['Sale Price'].value_counts().sum()"
   ]
  },
  {
   "cell_type": "code",
   "execution_count": 14,
   "id": "f36b8051",
   "metadata": {
    "scrolled": true
   },
   "outputs": [
    {
     "data": {
      "text/plain": [
       "count    99956.000000\n",
       "mean       446.634719\n",
       "std        255.982969\n",
       "min        186.000000\n",
       "25%        275.000000\n",
       "50%        370.000000\n",
       "75%        540.000000\n",
       "max       4050.000000\n",
       "Name: Sale Price, dtype: float64"
      ]
     },
     "execution_count": 14,
     "metadata": {},
     "output_type": "execute_result"
    }
   ],
   "source": [
    "df['Sale Price'].describe()"
   ]
  },
  {
   "cell_type": "markdown",
   "id": "f121d99c",
   "metadata": {},
   "source": [
    "**It seems that there's a wide distribution of Sale Prices based on the value counts and descriptive stats. The standard deviation of 256 when the mean is 446 is of note - likely drawn up from the extremely high sale prices therefore showing a large right tail.**"
   ]
  },
  {
   "cell_type": "code",
   "execution_count": 16,
   "id": "0b17d590",
   "metadata": {},
   "outputs": [
    {
     "data": {
      "image/png": "[encoded data removed]",
      "text/plain": [
       "<Figure size 432x288 with 1 Axes>"
      ]
     },
     "metadata": {
      "needs_background": "light"
     },
     "output_type": "display_data"
    }
   ],
   "source": [
    "sns.histplot(df[df['Sale Price']<2000]['Sale Price']);"
   ]
  },
  {
   "cell_type": "code",
   "execution_count": 17,
   "id": "b56cf7f3",
   "metadata": {},
   "outputs": [],
   "source": [
    "avg_sale_price = pd.DataFrame(df.groupby('Sneaker Name')['Sale Price'].mean())\n",
    "avg_retail_price = pd.DataFrame(df.groupby('Sneaker Name')['Retail Price'].mean())\n",
    "avg_sale_retail = pd.concat([avg_sale_price, avg_retail_price], axis=1)"
   ]
  },
  {
   "cell_type": "code",
   "execution_count": 18,
   "id": "1df42660",
   "metadata": {},
   "outputs": [
    {
     "data": {
      "text/html": [
       "<div>\n",
       "<style scoped>\n",
       "    .dataframe tbody tr th:only-of-type {\n",
       "        vertical-align: middle;\n",
       "    }\n",
       "\n",
       "    .dataframe tbody tr th {\n",
       "        vertical-align: top;\n",
       "    }\n",
       "\n",
       "    .dataframe thead th {\n",
       "        text-align: right;\n",
       "    }\n",
       "</style>\n",
       "<table border=\"1\" class=\"dataframe\">\n",
       "  <thead>\n",
       "    <tr style=\"text-align: right;\">\n",
       "      <th></th>\n",
       "      <th>Retail Price</th>\n",
       "    </tr>\n",
       "    <tr>\n",
       "      <th>Sneaker Name</th>\n",
       "      <th></th>\n",
       "    </tr>\n",
       "  </thead>\n",
       "  <tbody>\n",
       "    <tr>\n",
       "      <th>Adidas-Yeezy-Boost-350-Low-Moonrock</th>\n",
       "      <td>200.0</td>\n",
       "    </tr>\n",
       "    <tr>\n",
       "      <th>Adidas-Yeezy-Boost-350-Low-Oxford-Tan</th>\n",
       "      <td>200.0</td>\n",
       "    </tr>\n",
       "    <tr>\n",
       "      <th>Adidas-Yeezy-Boost-350-Low-Pirate-Black-2015</th>\n",
       "      <td>200.0</td>\n",
       "    </tr>\n",
       "    <tr>\n",
       "      <th>Adidas-Yeezy-Boost-350-Low-Pirate-Black-2016</th>\n",
       "      <td>200.0</td>\n",
       "    </tr>\n",
       "    <tr>\n",
       "      <th>Adidas-Yeezy-Boost-350-Low-Turtledove</th>\n",
       "      <td>200.0</td>\n",
       "    </tr>\n",
       "    <tr>\n",
       "      <th>Adidas-Yeezy-Boost-350-Low-V2-Beluga</th>\n",
       "      <td>220.0</td>\n",
       "    </tr>\n",
       "    <tr>\n",
       "      <th>Adidas-Yeezy-Boost-350-V2-Beluga-2pt0</th>\n",
       "      <td>220.0</td>\n",
       "    </tr>\n",
       "    <tr>\n",
       "      <th>Adidas-Yeezy-Boost-350-V2-Blue-Tint</th>\n",
       "      <td>220.0</td>\n",
       "    </tr>\n",
       "    <tr>\n",
       "      <th>Adidas-Yeezy-Boost-350-V2-Core-Black-Copper</th>\n",
       "      <td>220.0</td>\n",
       "    </tr>\n",
       "    <tr>\n",
       "      <th>Adidas-Yeezy-Boost-350-V2-Core-Black-Green</th>\n",
       "      <td>220.0</td>\n",
       "    </tr>\n",
       "    <tr>\n",
       "      <th>Adidas-Yeezy-Boost-350-V2-Core-Black-Red</th>\n",
       "      <td>220.0</td>\n",
       "    </tr>\n",
       "    <tr>\n",
       "      <th>Adidas-Yeezy-Boost-350-V2-Core-Black-Red-2017</th>\n",
       "      <td>220.0</td>\n",
       "    </tr>\n",
       "    <tr>\n",
       "      <th>Adidas-Yeezy-Boost-350-V2-Core-Black-White</th>\n",
       "      <td>220.0</td>\n",
       "    </tr>\n",
       "    <tr>\n",
       "      <th>Adidas-Yeezy-Boost-350-V2-Cream-White</th>\n",
       "      <td>220.0</td>\n",
       "    </tr>\n",
       "    <tr>\n",
       "      <th>Adidas-Yeezy-Boost-350-V2-Semi-Frozen-Yellow</th>\n",
       "      <td>220.0</td>\n",
       "    </tr>\n",
       "    <tr>\n",
       "      <th>Adidas-Yeezy-Boost-350-V2-Sesame</th>\n",
       "      <td>220.0</td>\n",
       "    </tr>\n",
       "    <tr>\n",
       "      <th>Adidas-Yeezy-Boost-350-V2-Zebra</th>\n",
       "      <td>220.0</td>\n",
       "    </tr>\n",
       "    <tr>\n",
       "      <th>Air-Jordan-1-Retro-High-Off-White-Chicago</th>\n",
       "      <td>190.0</td>\n",
       "    </tr>\n",
       "    <tr>\n",
       "      <th>Air-Jordan-1-Retro-High-Off-White-University-Blue</th>\n",
       "      <td>190.0</td>\n",
       "    </tr>\n",
       "    <tr>\n",
       "      <th>Air-Jordan-1-Retro-High-Off-White-White</th>\n",
       "      <td>190.0</td>\n",
       "    </tr>\n",
       "    <tr>\n",
       "      <th>Nike-Air-Force-1-Low-Off-White</th>\n",
       "      <td>170.0</td>\n",
       "    </tr>\n",
       "    <tr>\n",
       "      <th>Nike-Air-Force-1-Low-Off-White-Black-White</th>\n",
       "      <td>170.0</td>\n",
       "    </tr>\n",
       "    <tr>\n",
       "      <th>Nike-Air-Force-1-Low-Off-White-Volt</th>\n",
       "      <td>170.0</td>\n",
       "    </tr>\n",
       "    <tr>\n",
       "      <th>Nike-Air-Force-1-Low-Virgil-Abloh-Off-White-AF100</th>\n",
       "      <td>150.0</td>\n",
       "    </tr>\n",
       "    <tr>\n",
       "      <th>Nike-Air-Max-90-Off-White</th>\n",
       "      <td>160.0</td>\n",
       "    </tr>\n",
       "    <tr>\n",
       "      <th>Nike-Air-Max-90-Off-White-Black</th>\n",
       "      <td>160.0</td>\n",
       "    </tr>\n",
       "    <tr>\n",
       "      <th>Nike-Air-Max-90-Off-White-Desert-Ore</th>\n",
       "      <td>160.0</td>\n",
       "    </tr>\n",
       "    <tr>\n",
       "      <th>Nike-Air-Max-97-Off-White</th>\n",
       "      <td>190.0</td>\n",
       "    </tr>\n",
       "    <tr>\n",
       "      <th>Nike-Air-Max-97-Off-White-Black</th>\n",
       "      <td>190.0</td>\n",
       "    </tr>\n",
       "    <tr>\n",
       "      <th>Nike-Air-Max-97-Off-White-Elemental-Rose-Queen</th>\n",
       "      <td>190.0</td>\n",
       "    </tr>\n",
       "    <tr>\n",
       "      <th>Nike-Air-Max-97-Off-White-Menta</th>\n",
       "      <td>190.0</td>\n",
       "    </tr>\n",
       "    <tr>\n",
       "      <th>Nike-Air-Presto-Off-White</th>\n",
       "      <td>160.0</td>\n",
       "    </tr>\n",
       "    <tr>\n",
       "      <th>Nike-Air-Presto-Off-White-Black-2018</th>\n",
       "      <td>160.0</td>\n",
       "    </tr>\n",
       "    <tr>\n",
       "      <th>Nike-Air-Presto-Off-White-White-2018</th>\n",
       "      <td>160.0</td>\n",
       "    </tr>\n",
       "    <tr>\n",
       "      <th>Nike-Air-VaporMax-Off-White</th>\n",
       "      <td>250.0</td>\n",
       "    </tr>\n",
       "    <tr>\n",
       "      <th>Nike-Air-VaporMax-Off-White-2018</th>\n",
       "      <td>250.0</td>\n",
       "    </tr>\n",
       "    <tr>\n",
       "      <th>Nike-Air-VaporMax-Off-White-Black</th>\n",
       "      <td>250.0</td>\n",
       "    </tr>\n",
       "    <tr>\n",
       "      <th>Nike-Blazer-Mid-Off-White</th>\n",
       "      <td>130.0</td>\n",
       "    </tr>\n",
       "    <tr>\n",
       "      <th>Nike-Blazer-Mid-Off-White-All-Hallows-Eve</th>\n",
       "      <td>130.0</td>\n",
       "    </tr>\n",
       "    <tr>\n",
       "      <th>Nike-Blazer-Mid-Off-White-Grim-Reaper</th>\n",
       "      <td>130.0</td>\n",
       "    </tr>\n",
       "    <tr>\n",
       "      <th>Nike-Blazer-Mid-Off-White-Wolf-Grey</th>\n",
       "      <td>130.0</td>\n",
       "    </tr>\n",
       "    <tr>\n",
       "      <th>Nike-React-Hyperdunk-2017-Flyknit-Off-White</th>\n",
       "      <td>200.0</td>\n",
       "    </tr>\n",
       "    <tr>\n",
       "      <th>Nike-Zoom-Fly-Mercurial-Off-White-Black</th>\n",
       "      <td>200.0</td>\n",
       "    </tr>\n",
       "    <tr>\n",
       "      <th>Nike-Zoom-Fly-Mercurial-Off-White-Total-Orange</th>\n",
       "      <td>200.0</td>\n",
       "    </tr>\n",
       "    <tr>\n",
       "      <th>Nike-Zoom-Fly-Off-White</th>\n",
       "      <td>170.0</td>\n",
       "    </tr>\n",
       "    <tr>\n",
       "      <th>Nike-Zoom-Fly-Off-White-Black-Silver</th>\n",
       "      <td>170.0</td>\n",
       "    </tr>\n",
       "    <tr>\n",
       "      <th>Nike-Zoom-Fly-Off-White-Pink</th>\n",
       "      <td>170.0</td>\n",
       "    </tr>\n",
       "    <tr>\n",
       "      <th>adidas-Yeezy-Boost-350-V2-Butter</th>\n",
       "      <td>220.0</td>\n",
       "    </tr>\n",
       "    <tr>\n",
       "      <th>adidas-Yeezy-Boost-350-V2-Static</th>\n",
       "      <td>220.0</td>\n",
       "    </tr>\n",
       "    <tr>\n",
       "      <th>adidas-Yeezy-Boost-350-V2-Static-Reflective</th>\n",
       "      <td>220.0</td>\n",
       "    </tr>\n",
       "  </tbody>\n",
       "</table>\n",
       "</div>"
      ],
      "text/plain": [
       "                                                   Retail Price\n",
       "Sneaker Name                                                   \n",
       "Adidas-Yeezy-Boost-350-Low-Moonrock                       200.0\n",
       "Adidas-Yeezy-Boost-350-Low-Oxford-Tan                     200.0\n",
       "Adidas-Yeezy-Boost-350-Low-Pirate-Black-2015              200.0\n",
       "Adidas-Yeezy-Boost-350-Low-Pirate-Black-2016              200.0\n",
       "Adidas-Yeezy-Boost-350-Low-Turtledove                     200.0\n",
       "Adidas-Yeezy-Boost-350-Low-V2-Beluga                      220.0\n",
       "Adidas-Yeezy-Boost-350-V2-Beluga-2pt0                     220.0\n",
       "Adidas-Yeezy-Boost-350-V2-Blue-Tint                       220.0\n",
       "Adidas-Yeezy-Boost-350-V2-Core-Black-Copper               220.0\n",
       "Adidas-Yeezy-Boost-350-V2-Core-Black-Green                220.0\n",
       "Adidas-Yeezy-Boost-350-V2-Core-Black-Red                  220.0\n",
       "Adidas-Yeezy-Boost-350-V2-Core-Black-Red-2017             220.0\n",
       "Adidas-Yeezy-Boost-350-V2-Core-Black-White                220.0\n",
       "Adidas-Yeezy-Boost-350-V2-Cream-White                     220.0\n",
       "Adidas-Yeezy-Boost-350-V2-Semi-Frozen-Yellow              220.0\n",
       "Adidas-Yeezy-Boost-350-V2-Sesame                          220.0\n",
       "Adidas-Yeezy-Boost-350-V2-Zebra                           220.0\n",
       "Air-Jordan-1-Retro-High-Off-White-Chicago                 190.0\n",
       "Air-Jordan-1-Retro-High-Off-White-University-Blue         190.0\n",
       "Air-Jordan-1-Retro-High-Off-White-White                   190.0\n",
       "Nike-Air-Force-1-Low-Off-White                            170.0\n",
       "Nike-Air-Force-1-Low-Off-White-Black-White                170.0\n",
       "Nike-Air-Force-1-Low-Off-White-Volt                       170.0\n",
       "Nike-Air-Force-1-Low-Virgil-Abloh-Off-White-AF100         150.0\n",
       "Nike-Air-Max-90-Off-White                                 160.0\n",
       "Nike-Air-Max-90-Off-White-Black                           160.0\n",
       "Nike-Air-Max-90-Off-White-Desert-Ore                      160.0\n",
       "Nike-Air-Max-97-Off-White                                 190.0\n",
       "Nike-Air-Max-97-Off-White-Black                           190.0\n",
       "Nike-Air-Max-97-Off-White-Elemental-Rose-Queen            190.0\n",
       "Nike-Air-Max-97-Off-White-Menta                           190.0\n",
       "Nike-Air-Presto-Off-White                                 160.0\n",
       "Nike-Air-Presto-Off-White-Black-2018                      160.0\n",
       "Nike-Air-Presto-Off-White-White-2018                      160.0\n",
       "Nike-Air-VaporMax-Off-White                               250.0\n",
       "Nike-Air-VaporMax-Off-White-2018                          250.0\n",
       "Nike-Air-VaporMax-Off-White-Black                         250.0\n",
       "Nike-Blazer-Mid-Off-White                                 130.0\n",
       "Nike-Blazer-Mid-Off-White-All-Hallows-Eve                 130.0\n",
       "Nike-Blazer-Mid-Off-White-Grim-Reaper                     130.0\n",
       "Nike-Blazer-Mid-Off-White-Wolf-Grey                       130.0\n",
       "Nike-React-Hyperdunk-2017-Flyknit-Off-White               200.0\n",
       "Nike-Zoom-Fly-Mercurial-Off-White-Black                   200.0\n",
       "Nike-Zoom-Fly-Mercurial-Off-White-Total-Orange            200.0\n",
       "Nike-Zoom-Fly-Off-White                                   170.0\n",
       "Nike-Zoom-Fly-Off-White-Black-Silver                      170.0\n",
       "Nike-Zoom-Fly-Off-White-Pink                              170.0\n",
       "adidas-Yeezy-Boost-350-V2-Butter                          220.0\n",
       "adidas-Yeezy-Boost-350-V2-Static                          220.0\n",
       "adidas-Yeezy-Boost-350-V2-Static-Reflective               220.0"
      ]
     },
     "execution_count": 18,
     "metadata": {},
     "output_type": "execute_result"
    }
   ],
   "source": [
    "avg_retail_price"
   ]
  },
  {
   "cell_type": "code",
   "execution_count": 19,
   "id": "2d6d8a2b",
   "metadata": {},
   "outputs": [
    {
     "data": {
      "text/html": [
       "<div>\n",
       "<style scoped>\n",
       "    .dataframe tbody tr th:only-of-type {\n",
       "        vertical-align: middle;\n",
       "    }\n",
       "\n",
       "    .dataframe tbody tr th {\n",
       "        vertical-align: top;\n",
       "    }\n",
       "\n",
       "    .dataframe thead th {\n",
       "        text-align: right;\n",
       "    }\n",
       "</style>\n",
       "<table border=\"1\" class=\"dataframe\">\n",
       "  <thead>\n",
       "    <tr style=\"text-align: right;\">\n",
       "      <th></th>\n",
       "      <th>Sale Price</th>\n",
       "      <th>Retail Price</th>\n",
       "    </tr>\n",
       "    <tr>\n",
       "      <th>Sneaker Name</th>\n",
       "      <th></th>\n",
       "      <th></th>\n",
       "    </tr>\n",
       "  </thead>\n",
       "  <tbody>\n",
       "    <tr>\n",
       "      <th>Air-Jordan-1-Retro-High-Off-White-White</th>\n",
       "      <td>1826.070288</td>\n",
       "      <td>190.0</td>\n",
       "    </tr>\n",
       "    <tr>\n",
       "      <th>Air-Jordan-1-Retro-High-Off-White-Chicago</th>\n",
       "      <td>1769.800000</td>\n",
       "      <td>190.0</td>\n",
       "    </tr>\n",
       "    <tr>\n",
       "      <th>Adidas-Yeezy-Boost-350-Low-Turtledove</th>\n",
       "      <td>1531.661765</td>\n",
       "      <td>200.0</td>\n",
       "    </tr>\n",
       "    <tr>\n",
       "      <th>Nike-Air-Presto-Off-White</th>\n",
       "      <td>1236.055369</td>\n",
       "      <td>160.0</td>\n",
       "    </tr>\n",
       "    <tr>\n",
       "      <th>Adidas-Yeezy-Boost-350-Low-Oxford-Tan</th>\n",
       "      <td>1011.514286</td>\n",
       "      <td>200.0</td>\n",
       "    </tr>\n",
       "    <tr>\n",
       "      <th>Adidas-Yeezy-Boost-350-Low-Moonrock</th>\n",
       "      <td>996.710000</td>\n",
       "      <td>200.0</td>\n",
       "    </tr>\n",
       "    <tr>\n",
       "      <th>Adidas-Yeezy-Boost-350-Low-Pirate-Black-2016</th>\n",
       "      <td>984.237705</td>\n",
       "      <td>200.0</td>\n",
       "    </tr>\n",
       "    <tr>\n",
       "      <th>Nike-Air-Force-1-Low-Virgil-Abloh-Off-White-AF100</th>\n",
       "      <td>975.516129</td>\n",
       "      <td>150.0</td>\n",
       "    </tr>\n",
       "    <tr>\n",
       "      <th>Adidas-Yeezy-Boost-350-V2-Core-Black-Red</th>\n",
       "      <td>937.754967</td>\n",
       "      <td>220.0</td>\n",
       "    </tr>\n",
       "    <tr>\n",
       "      <th>Adidas-Yeezy-Boost-350-Low-Pirate-Black-2015</th>\n",
       "      <td>895.094737</td>\n",
       "      <td>200.0</td>\n",
       "    </tr>\n",
       "    <tr>\n",
       "      <th>Nike-Air-Max-97-Off-White-Elemental-Rose-Queen</th>\n",
       "      <td>893.782407</td>\n",
       "      <td>190.0</td>\n",
       "    </tr>\n",
       "    <tr>\n",
       "      <th>Nike-Air-VaporMax-Off-White</th>\n",
       "      <td>856.676190</td>\n",
       "      <td>250.0</td>\n",
       "    </tr>\n",
       "    <tr>\n",
       "      <th>Air-Jordan-1-Retro-High-Off-White-University-Blue</th>\n",
       "      <td>850.853506</td>\n",
       "      <td>190.0</td>\n",
       "    </tr>\n",
       "    <tr>\n",
       "      <th>Adidas-Yeezy-Boost-350-V2-Core-Black-Red-2017</th>\n",
       "      <td>804.304438</td>\n",
       "      <td>220.0</td>\n",
       "    </tr>\n",
       "    <tr>\n",
       "      <th>Adidas-Yeezy-Boost-350-Low-V2-Beluga</th>\n",
       "      <td>788.704819</td>\n",
       "      <td>220.0</td>\n",
       "    </tr>\n",
       "    <tr>\n",
       "      <th>Nike-Blazer-Mid-Off-White-Wolf-Grey</th>\n",
       "      <td>784.822917</td>\n",
       "      <td>130.0</td>\n",
       "    </tr>\n",
       "    <tr>\n",
       "      <th>Nike-Air-Max-97-Off-White-Menta</th>\n",
       "      <td>752.673469</td>\n",
       "      <td>190.0</td>\n",
       "    </tr>\n",
       "    <tr>\n",
       "      <th>Nike-Air-Presto-Off-White-Black-2018</th>\n",
       "      <td>730.469214</td>\n",
       "      <td>160.0</td>\n",
       "    </tr>\n",
       "    <tr>\n",
       "      <th>Adidas-Yeezy-Boost-350-V2-Core-Black-White</th>\n",
       "      <td>718.412238</td>\n",
       "      <td>220.0</td>\n",
       "    </tr>\n",
       "    <tr>\n",
       "      <th>Nike-Air-Force-1-Low-Off-White</th>\n",
       "      <td>717.462185</td>\n",
       "      <td>170.0</td>\n",
       "    </tr>\n",
       "    <tr>\n",
       "      <th>Nike-Air-Max-90-Off-White</th>\n",
       "      <td>709.923445</td>\n",
       "      <td>160.0</td>\n",
       "    </tr>\n",
       "    <tr>\n",
       "      <th>Nike-Blazer-Mid-Off-White</th>\n",
       "      <td>695.475050</td>\n",
       "      <td>130.0</td>\n",
       "    </tr>\n",
       "    <tr>\n",
       "      <th>Nike-Air-Max-97-Off-White-Black</th>\n",
       "      <td>672.100346</td>\n",
       "      <td>190.0</td>\n",
       "    </tr>\n",
       "    <tr>\n",
       "      <th>Nike-Air-Max-97-Off-White</th>\n",
       "      <td>664.290441</td>\n",
       "      <td>190.0</td>\n",
       "    </tr>\n",
       "    <tr>\n",
       "      <th>Adidas-Yeezy-Boost-350-V2-Core-Black-Copper</th>\n",
       "      <td>656.631111</td>\n",
       "      <td>220.0</td>\n",
       "    </tr>\n",
       "    <tr>\n",
       "      <th>Nike-Air-Presto-Off-White-White-2018</th>\n",
       "      <td>634.391397</td>\n",
       "      <td>160.0</td>\n",
       "    </tr>\n",
       "    <tr>\n",
       "      <th>Nike-Air-VaporMax-Off-White-Black</th>\n",
       "      <td>628.478294</td>\n",
       "      <td>250.0</td>\n",
       "    </tr>\n",
       "    <tr>\n",
       "      <th>Adidas-Yeezy-Boost-350-V2-Core-Black-Green</th>\n",
       "      <td>622.801020</td>\n",
       "      <td>220.0</td>\n",
       "    </tr>\n",
       "    <tr>\n",
       "      <th>Nike-Blazer-Mid-Off-White-All-Hallows-Eve</th>\n",
       "      <td>606.179791</td>\n",
       "      <td>130.0</td>\n",
       "    </tr>\n",
       "    <tr>\n",
       "      <th>Nike-Air-VaporMax-Off-White-2018</th>\n",
       "      <td>592.024513</td>\n",
       "      <td>250.0</td>\n",
       "    </tr>\n",
       "    <tr>\n",
       "      <th>Nike-Air-Max-90-Off-White-Black</th>\n",
       "      <td>552.785319</td>\n",
       "      <td>160.0</td>\n",
       "    </tr>\n",
       "    <tr>\n",
       "      <th>Nike-Zoom-Fly-Off-White</th>\n",
       "      <td>534.816092</td>\n",
       "      <td>170.0</td>\n",
       "    </tr>\n",
       "    <tr>\n",
       "      <th>Nike-Air-Max-90-Off-White-Desert-Ore</th>\n",
       "      <td>532.542373</td>\n",
       "      <td>160.0</td>\n",
       "    </tr>\n",
       "    <tr>\n",
       "      <th>Nike-Blazer-Mid-Off-White-Grim-Reaper</th>\n",
       "      <td>528.822604</td>\n",
       "      <td>130.0</td>\n",
       "    </tr>\n",
       "    <tr>\n",
       "      <th>Nike-Air-Force-1-Low-Off-White-Black-White</th>\n",
       "      <td>512.127083</td>\n",
       "      <td>170.0</td>\n",
       "    </tr>\n",
       "    <tr>\n",
       "      <th>Nike-React-Hyperdunk-2017-Flyknit-Off-White</th>\n",
       "      <td>494.946281</td>\n",
       "      <td>200.0</td>\n",
       "    </tr>\n",
       "    <tr>\n",
       "      <th>adidas-Yeezy-Boost-350-V2-Static-Reflective</th>\n",
       "      <td>468.145101</td>\n",
       "      <td>220.0</td>\n",
       "    </tr>\n",
       "    <tr>\n",
       "      <th>Adidas-Yeezy-Boost-350-V2-Beluga-2pt0</th>\n",
       "      <td>400.439634</td>\n",
       "      <td>220.0</td>\n",
       "    </tr>\n",
       "    <tr>\n",
       "      <th>Nike-Air-Force-1-Low-Off-White-Volt</th>\n",
       "      <td>391.237488</td>\n",
       "      <td>170.0</td>\n",
       "    </tr>\n",
       "    <tr>\n",
       "      <th>Adidas-Yeezy-Boost-350-V2-Semi-Frozen-Yellow</th>\n",
       "      <td>390.586939</td>\n",
       "      <td>220.0</td>\n",
       "    </tr>\n",
       "    <tr>\n",
       "      <th>Adidas-Yeezy-Boost-350-V2-Blue-Tint</th>\n",
       "      <td>378.986125</td>\n",
       "      <td>220.0</td>\n",
       "    </tr>\n",
       "    <tr>\n",
       "      <th>Adidas-Yeezy-Boost-350-V2-Zebra</th>\n",
       "      <td>361.272206</td>\n",
       "      <td>220.0</td>\n",
       "    </tr>\n",
       "    <tr>\n",
       "      <th>Nike-Zoom-Fly-Mercurial-Off-White-Black</th>\n",
       "      <td>354.133333</td>\n",
       "      <td>200.0</td>\n",
       "    </tr>\n",
       "    <tr>\n",
       "      <th>Nike-Zoom-Fly-Off-White-Black-Silver</th>\n",
       "      <td>316.691489</td>\n",
       "      <td>170.0</td>\n",
       "    </tr>\n",
       "    <tr>\n",
       "      <th>Adidas-Yeezy-Boost-350-V2-Cream-White</th>\n",
       "      <td>288.708805</td>\n",
       "      <td>220.0</td>\n",
       "    </tr>\n",
       "    <tr>\n",
       "      <th>Nike-Zoom-Fly-Mercurial-Off-White-Total-Orange</th>\n",
       "      <td>287.914634</td>\n",
       "      <td>200.0</td>\n",
       "    </tr>\n",
       "    <tr>\n",
       "      <th>adidas-Yeezy-Boost-350-V2-Static</th>\n",
       "      <td>287.066627</td>\n",
       "      <td>220.0</td>\n",
       "    </tr>\n",
       "    <tr>\n",
       "      <th>Nike-Zoom-Fly-Off-White-Pink</th>\n",
       "      <td>271.165563</td>\n",
       "      <td>170.0</td>\n",
       "    </tr>\n",
       "    <tr>\n",
       "      <th>adidas-Yeezy-Boost-350-V2-Butter</th>\n",
       "      <td>269.760571</td>\n",
       "      <td>220.0</td>\n",
       "    </tr>\n",
       "    <tr>\n",
       "      <th>Adidas-Yeezy-Boost-350-V2-Sesame</th>\n",
       "      <td>264.068792</td>\n",
       "      <td>220.0</td>\n",
       "    </tr>\n",
       "  </tbody>\n",
       "</table>\n",
       "</div>"
      ],
      "text/plain": [
       "                                                    Sale Price  Retail Price\n",
       "Sneaker Name                                                                \n",
       "Air-Jordan-1-Retro-High-Off-White-White            1826.070288         190.0\n",
       "Air-Jordan-1-Retro-High-Off-White-Chicago          1769.800000         190.0\n",
       "Adidas-Yeezy-Boost-350-Low-Turtledove              1531.661765         200.0\n",
       "Nike-Air-Presto-Off-White                          1236.055369         160.0\n",
       "Adidas-Yeezy-Boost-350-Low-Oxford-Tan              1011.514286         200.0\n",
       "Adidas-Yeezy-Boost-350-Low-Moonrock                 996.710000         200.0\n",
       "Adidas-Yeezy-Boost-350-Low-Pirate-Black-2016        984.237705         200.0\n",
       "Nike-Air-Force-1-Low-Virgil-Abloh-Off-White-AF100   975.516129         150.0\n",
       "Adidas-Yeezy-Boost-350-V2-Core-Black-Red            937.754967         220.0\n",
       "Adidas-Yeezy-Boost-350-Low-Pirate-Black-2015        895.094737         200.0\n",
       "Nike-Air-Max-97-Off-White-Elemental-Rose-Queen      893.782407         190.0\n",
       "Nike-Air-VaporMax-Off-White                         856.676190         250.0\n",
       "Air-Jordan-1-Retro-High-Off-White-University-Blue   850.853506         190.0\n",
       "Adidas-Yeezy-Boost-350-V2-Core-Black-Red-2017       804.304438         220.0\n",
       "Adidas-Yeezy-Boost-350-Low-V2-Beluga                788.704819         220.0\n",
       "Nike-Blazer-Mid-Off-White-Wolf-Grey                 784.822917         130.0\n",
       "Nike-Air-Max-97-Off-White-Menta                     752.673469         190.0\n",
       "Nike-Air-Presto-Off-White-Black-2018                730.469214         160.0\n",
       "Adidas-Yeezy-Boost-350-V2-Core-Black-White          718.412238         220.0\n",
       "Nike-Air-Force-1-Low-Off-White                      717.462185         170.0\n",
       "Nike-Air-Max-90-Off-White                           709.923445         160.0\n",
       "Nike-Blazer-Mid-Off-White                           695.475050         130.0\n",
       "Nike-Air-Max-97-Off-White-Black                     672.100346         190.0\n",
       "Nike-Air-Max-97-Off-White                           664.290441         190.0\n",
       "Adidas-Yeezy-Boost-350-V2-Core-Black-Copper         656.631111         220.0\n",
       "Nike-Air-Presto-Off-White-White-2018                634.391397         160.0\n",
       "Nike-Air-VaporMax-Off-White-Black                   628.478294         250.0\n",
       "Adidas-Yeezy-Boost-350-V2-Core-Black-Green          622.801020         220.0\n",
       "Nike-Blazer-Mid-Off-White-All-Hallows-Eve           606.179791         130.0\n",
       "Nike-Air-VaporMax-Off-White-2018                    592.024513         250.0\n",
       "Nike-Air-Max-90-Off-White-Black                     552.785319         160.0\n",
       "Nike-Zoom-Fly-Off-White                             534.816092         170.0\n",
       "Nike-Air-Max-90-Off-White-Desert-Ore                532.542373         160.0\n",
       "Nike-Blazer-Mid-Off-White-Grim-Reaper               528.822604         130.0\n",
       "Nike-Air-Force-1-Low-Off-White-Black-White          512.127083         170.0\n",
       "Nike-React-Hyperdunk-2017-Flyknit-Off-White         494.946281         200.0\n",
       "adidas-Yeezy-Boost-350-V2-Static-Reflective         468.145101         220.0\n",
       "Adidas-Yeezy-Boost-350-V2-Beluga-2pt0               400.439634         220.0\n",
       "Nike-Air-Force-1-Low-Off-White-Volt                 391.237488         170.0\n",
       "Adidas-Yeezy-Boost-350-V2-Semi-Frozen-Yellow        390.586939         220.0\n",
       "Adidas-Yeezy-Boost-350-V2-Blue-Tint                 378.986125         220.0\n",
       "Adidas-Yeezy-Boost-350-V2-Zebra                     361.272206         220.0\n",
       "Nike-Zoom-Fly-Mercurial-Off-White-Black             354.133333         200.0\n",
       "Nike-Zoom-Fly-Off-White-Black-Silver                316.691489         170.0\n",
       "Adidas-Yeezy-Boost-350-V2-Cream-White               288.708805         220.0\n",
       "Nike-Zoom-Fly-Mercurial-Off-White-Total-Orange      287.914634         200.0\n",
       "adidas-Yeezy-Boost-350-V2-Static                    287.066627         220.0\n",
       "Nike-Zoom-Fly-Off-White-Pink                        271.165563         170.0\n",
       "adidas-Yeezy-Boost-350-V2-Butter                    269.760571         220.0\n",
       "Adidas-Yeezy-Boost-350-V2-Sesame                    264.068792         220.0"
      ]
     },
     "execution_count": 19,
     "metadata": {},
     "output_type": "execute_result"
    }
   ],
   "source": [
    "avg_sale_retail.sort_values(\"Sale Price\", ascending=False)"
   ]
  },
  {
   "cell_type": "code",
   "execution_count": 20,
   "id": "4e453b65",
   "metadata": {},
   "outputs": [
    {
     "data": {
      "image/png": "[encoded data removed]",
      "text/plain": [
       "<Figure size 432x288 with 1 Axes>"
      ]
     },
     "metadata": {
      "needs_background": "light"
     },
     "output_type": "display_data"
    }
   ],
   "source": [
    "sns.histplot(avg_sale_retail['Sale Price'], bins=12);"
   ]
  },
  {
   "cell_type": "code",
   "execution_count": 21,
   "id": "30c2bad1",
   "metadata": {},
   "outputs": [
    {
     "data": {
      "image/png": "[encoded data removed]",
      "text/plain": [
       "<Figure size 432x288 with 1 Axes>"
      ]
     },
     "metadata": {
      "needs_background": "light"
     },
     "output_type": "display_data"
    }
   ],
   "source": [
    "sns.histplot(avg_sale_retail['Retail Price'], bins=10);"
   ]
  },
  {
   "cell_type": "code",
   "execution_count": 22,
   "id": "9a43ba18",
   "metadata": {
    "scrolled": true
   },
   "outputs": [
    {
     "name": "stderr",
     "output_type": "stream",
     "text": [
      "/Library/Frameworks/Python.framework/Versions/3.10/lib/python3.10/site-packages/seaborn/_decorators.py:36: FutureWarning: Pass the following variables as keyword args: x, y. From version 0.12, the only valid positional argument will be `data`, and passing other arguments without an explicit keyword will result in an error or misinterpretation.\n",
      "  warnings.warn(\n"
     ]
    },
    {
     "data": {
      "image/png": "[encoded data removed]",
      "text/plain": [
       "<Figure size 432x288 with 1 Axes>"
      ]
     },
     "metadata": {
      "needs_background": "light"
     },
     "output_type": "display_data"
    }
   ],
   "source": [
    "sns.scatterplot('Retail Price', 'Sale Price', data=avg_sale_retail);"
   ]
  },
  {
   "cell_type": "code",
   "execution_count": 23,
   "id": "fd882174",
   "metadata": {},
   "outputs": [
    {
     "data": {
      "text/plain": [
       "array([' Yeezy', 'Off-White'], dtype=object)"
      ]
     },
     "execution_count": 23,
     "metadata": {},
     "output_type": "execute_result"
    }
   ],
   "source": [
    "## Unique brands appear to only be Yeezy and Off-White, or Adidas and Nike\n",
    "df['Brand'].unique()"
   ]
  },
  {
   "cell_type": "markdown",
   "id": "182061dc",
   "metadata": {},
   "source": [
    "\n",
    "\n",
    "With only 2 brands, it doesn't tell us much about the differences between the shoes.\n",
    "\n",
    "All the shoes are either Nike x Off-White or Yeezy as given in the dataset download\n",
    "\n",
    "I'll try to separate different shoes types."
   ]
  },
  {
   "cell_type": "code",
   "execution_count": 24,
   "id": "1f979041",
   "metadata": {},
   "outputs": [
    {
     "data": {
      "text/plain": [
       "array(['Adidas-Yeezy-Boost-350-Low-V2-Beluga',\n",
       "       'Adidas-Yeezy-Boost-350-V2-Core-Black-Copper',\n",
       "       'Adidas-Yeezy-Boost-350-V2-Core-Black-Green',\n",
       "       'Adidas-Yeezy-Boost-350-V2-Core-Black-Red',\n",
       "       'Adidas-Yeezy-Boost-350-V2-Core-Black-Red-2017',\n",
       "       'Adidas-Yeezy-Boost-350-V2-Core-Black-White',\n",
       "       'Adidas-Yeezy-Boost-350-V2-Cream-White',\n",
       "       'Adidas-Yeezy-Boost-350-V2-Zebra',\n",
       "       'Adidas-Yeezy-Boost-350-Low-Moonrock',\n",
       "       'Adidas-Yeezy-Boost-350-Low-Pirate-Black-2016',\n",
       "       'Adidas-Yeezy-Boost-350-Low-Oxford-Tan',\n",
       "       'Adidas-Yeezy-Boost-350-Low-Turtledove',\n",
       "       'Adidas-Yeezy-Boost-350-Low-Pirate-Black-2015',\n",
       "       'Adidas-Yeezy-Boost-350-V2-Semi-Frozen-Yellow',\n",
       "       'Adidas-Yeezy-Boost-350-V2-Beluga-2pt0',\n",
       "       'Adidas-Yeezy-Boost-350-V2-Blue-Tint',\n",
       "       'adidas-Yeezy-Boost-350-V2-Butter',\n",
       "       'Adidas-Yeezy-Boost-350-V2-Sesame',\n",
       "       'adidas-Yeezy-Boost-350-V2-Static',\n",
       "       'adidas-Yeezy-Boost-350-V2-Static-Reflective'], dtype=object)"
      ]
     },
     "execution_count": 24,
     "metadata": {},
     "output_type": "execute_result"
    }
   ],
   "source": [
    "# Get all unique names for Yeezy's\n",
    "df[df['Brand']==' Yeezy']['Sneaker Name'].unique()"
   ]
  },
  {
   "cell_type": "code",
   "execution_count": 25,
   "id": "f0f50d84",
   "metadata": {},
   "outputs": [
    {
     "data": {
      "text/plain": [
       "array(['Nike-Air-Max-90-Off-White', 'Nike-Air-Presto-Off-White',\n",
       "       'Nike-Air-VaporMax-Off-White',\n",
       "       'Air-Jordan-1-Retro-High-Off-White-Chicago',\n",
       "       'Nike-Blazer-Mid-Off-White', 'Nike-Air-Force-1-Low-Off-White',\n",
       "       'Nike-Air-Max-97-Off-White',\n",
       "       'Nike-Air-Force-1-Low-Virgil-Abloh-Off-White-AF100',\n",
       "       'Nike-React-Hyperdunk-2017-Flyknit-Off-White',\n",
       "       'Nike-Zoom-Fly-Off-White', 'Nike-Air-VaporMax-Off-White-2018',\n",
       "       'Air-Jordan-1-Retro-High-Off-White-White',\n",
       "       'Nike-Air-VaporMax-Off-White-Black',\n",
       "       'Air-Jordan-1-Retro-High-Off-White-University-Blue',\n",
       "       'Nike-Air-Presto-Off-White-Black-2018',\n",
       "       'Nike-Air-Presto-Off-White-White-2018',\n",
       "       'Nike-Zoom-Fly-Mercurial-Off-White-Black',\n",
       "       'Nike-Zoom-Fly-Mercurial-Off-White-Total-Orange',\n",
       "       'Nike-Air-Max-97-Off-White-Elemental-Rose-Queen',\n",
       "       'Nike-Blazer-Mid-Off-White-All-Hallows-Eve',\n",
       "       'Nike-Blazer-Mid-Off-White-Grim-Reaper',\n",
       "       'Nike-Blazer-Mid-Off-White-Wolf-Grey',\n",
       "       'Nike-Air-Max-97-Off-White-Menta',\n",
       "       'Nike-Air-Max-97-Off-White-Black',\n",
       "       'Nike-Zoom-Fly-Off-White-Black-Silver',\n",
       "       'Nike-Zoom-Fly-Off-White-Pink',\n",
       "       'Nike-Air-Force-1-Low-Off-White-Volt',\n",
       "       'Nike-Air-Force-1-Low-Off-White-Black-White',\n",
       "       'Nike-Air-Max-90-Off-White-Black',\n",
       "       'Nike-Air-Max-90-Off-White-Desert-Ore'], dtype=object)"
      ]
     },
     "execution_count": 25,
     "metadata": {},
     "output_type": "execute_result"
    }
   ],
   "source": [
    "df[df['Brand']=='Off-White']['Sneaker Name'].unique()\n",
    "# VaporMax\n",
    "# Air-Max\n",
    "# Presto\n",
    "# 1-Retro\n",
    "# Blazer\n",
    "# Force-1\n",
    "# React\n",
    "# Zoom"
   ]
  },
  {
   "cell_type": "code",
   "execution_count": 26,
   "id": "0b7888b0",
   "metadata": {},
   "outputs": [],
   "source": [
    "sneaker_type = []\n",
    "for i in range(0,len(df)):\n",
    "    name = df.iloc[i]['Sneaker Name']\n",
    "    if 'Yeezy-Boost-350' in name:\n",
    "        if 'V2' in name:\n",
    "            sneaker_type.append('Yeezy Boost 350 V2')\n",
    "        else:\n",
    "            sneaker_type.append('Yeezy Boost 350')\n",
    "    if 'VaporMax' in name:\n",
    "        sneaker_type.append('Off-White VaporMax')\n",
    "    if 'Air-Max' in name:\n",
    "        sneaker_type.append('Off-White Air-Max')\n",
    "    if 'Presto' in name:\n",
    "        sneaker_type.append('Off-White Presto')\n",
    "    if '1-Retro' in name:\n",
    "        sneaker_type.append('Off-White 1-Retro')\n",
    "    if 'Blazer' in name:\n",
    "        sneaker_type.append('Off-White Blazer')\n",
    "    if 'Force-1' in name:\n",
    "        sneaker_type.append('Off-White Force-1')\n",
    "    if 'React' in name:\n",
    "        sneaker_type.append('Off-White React')\n",
    "    if 'Zoom' in name:\n",
    "        sneaker_type.append('Off-White Zoom')\n",
    "df['Shoe Type'] = sneaker_type"
   ]
  },
  {
   "cell_type": "code",
   "execution_count": 27,
   "id": "db32e121",
   "metadata": {
    "scrolled": true
   },
   "outputs": [
    {
     "data": {
      "text/html": [
       "<div>\n",
       "<style scoped>\n",
       "    .dataframe tbody tr th:only-of-type {\n",
       "        vertical-align: middle;\n",
       "    }\n",
       "\n",
       "    .dataframe tbody tr th {\n",
       "        vertical-align: top;\n",
       "    }\n",
       "\n",
       "    .dataframe thead th {\n",
       "        text-align: right;\n",
       "    }\n",
       "</style>\n",
       "<table border=\"1\" class=\"dataframe\">\n",
       "  <thead>\n",
       "    <tr style=\"text-align: right;\">\n",
       "      <th></th>\n",
       "      <th>Order Date</th>\n",
       "      <th>Brand</th>\n",
       "      <th>Sneaker Name</th>\n",
       "      <th>Sale Price</th>\n",
       "      <th>Retail Price</th>\n",
       "      <th>Release Date</th>\n",
       "      <th>Shoe Size</th>\n",
       "      <th>Buyer Region</th>\n",
       "      <th>Shoe Type</th>\n",
       "    </tr>\n",
       "  </thead>\n",
       "  <tbody>\n",
       "    <tr>\n",
       "      <th>0</th>\n",
       "      <td>9/1/17</td>\n",
       "      <td>Yeezy</td>\n",
       "      <td>Adidas-Yeezy-Boost-350-Low-V2-Beluga</td>\n",
       "      <td>1097</td>\n",
       "      <td>220</td>\n",
       "      <td>9/24/16</td>\n",
       "      <td>11.0</td>\n",
       "      <td>California</td>\n",
       "      <td>Yeezy Boost 350 V2</td>\n",
       "    </tr>\n",
       "    <tr>\n",
       "      <th>1</th>\n",
       "      <td>9/1/17</td>\n",
       "      <td>Yeezy</td>\n",
       "      <td>Adidas-Yeezy-Boost-350-V2-Core-Black-Copper</td>\n",
       "      <td>685</td>\n",
       "      <td>220</td>\n",
       "      <td>11/23/16</td>\n",
       "      <td>11.0</td>\n",
       "      <td>California</td>\n",
       "      <td>Yeezy Boost 350 V2</td>\n",
       "    </tr>\n",
       "    <tr>\n",
       "      <th>2</th>\n",
       "      <td>9/1/17</td>\n",
       "      <td>Yeezy</td>\n",
       "      <td>Adidas-Yeezy-Boost-350-V2-Core-Black-Green</td>\n",
       "      <td>690</td>\n",
       "      <td>220</td>\n",
       "      <td>11/23/16</td>\n",
       "      <td>11.0</td>\n",
       "      <td>California</td>\n",
       "      <td>Yeezy Boost 350 V2</td>\n",
       "    </tr>\n",
       "    <tr>\n",
       "      <th>3</th>\n",
       "      <td>9/1/17</td>\n",
       "      <td>Yeezy</td>\n",
       "      <td>Adidas-Yeezy-Boost-350-V2-Core-Black-Red</td>\n",
       "      <td>1075</td>\n",
       "      <td>220</td>\n",
       "      <td>11/23/16</td>\n",
       "      <td>11.5</td>\n",
       "      <td>Kentucky</td>\n",
       "      <td>Yeezy Boost 350 V2</td>\n",
       "    </tr>\n",
       "    <tr>\n",
       "      <th>4</th>\n",
       "      <td>9/1/17</td>\n",
       "      <td>Yeezy</td>\n",
       "      <td>Adidas-Yeezy-Boost-350-V2-Core-Black-Red-2017</td>\n",
       "      <td>828</td>\n",
       "      <td>220</td>\n",
       "      <td>2/11/17</td>\n",
       "      <td>11.0</td>\n",
       "      <td>Rhode Island</td>\n",
       "      <td>Yeezy Boost 350 V2</td>\n",
       "    </tr>\n",
       "  </tbody>\n",
       "</table>\n",
       "</div>"
      ],
      "text/plain": [
       "  Order Date   Brand                                   Sneaker Name  \\\n",
       "0     9/1/17   Yeezy           Adidas-Yeezy-Boost-350-Low-V2-Beluga   \n",
       "1     9/1/17   Yeezy    Adidas-Yeezy-Boost-350-V2-Core-Black-Copper   \n",
       "2     9/1/17   Yeezy     Adidas-Yeezy-Boost-350-V2-Core-Black-Green   \n",
       "3     9/1/17   Yeezy       Adidas-Yeezy-Boost-350-V2-Core-Black-Red   \n",
       "4     9/1/17   Yeezy  Adidas-Yeezy-Boost-350-V2-Core-Black-Red-2017   \n",
       "\n",
       "   Sale Price  Retail Price Release Date  Shoe Size  Buyer Region  \\\n",
       "0        1097           220      9/24/16       11.0    California   \n",
       "1         685           220     11/23/16       11.0    California   \n",
       "2         690           220     11/23/16       11.0    California   \n",
       "3        1075           220     11/23/16       11.5      Kentucky   \n",
       "4         828           220      2/11/17       11.0  Rhode Island   \n",
       "\n",
       "            Shoe Type  \n",
       "0  Yeezy Boost 350 V2  \n",
       "1  Yeezy Boost 350 V2  \n",
       "2  Yeezy Boost 350 V2  \n",
       "3  Yeezy Boost 350 V2  \n",
       "4  Yeezy Boost 350 V2  "
      ]
     },
     "execution_count": 27,
     "metadata": {},
     "output_type": "execute_result"
    }
   ],
   "source": [
    "df.head()"
   ]
  },
  {
   "cell_type": "code",
   "execution_count": 28,
   "id": "1515d7db",
   "metadata": {},
   "outputs": [],
   "source": [
    "df['Profit'] = df['Sale Price']-df['Retail Price']"
   ]
  },
  {
   "cell_type": "code",
   "execution_count": 29,
   "id": "b1c2e571",
   "metadata": {},
   "outputs": [],
   "source": [
    "df['Profit Margin'] = (df['Sale Price']-df['Retail Price']) / df['Sale Price']"
   ]
  },
  {
   "cell_type": "code",
   "execution_count": 30,
   "id": "1e80a1ea",
   "metadata": {},
   "outputs": [
    {
     "data": {
      "text/plain": [
       "Shoe Type\n",
       "Off-White 1-Retro     0.789705\n",
       "Off-White Air-Max     0.723173\n",
       "Off-White Blazer      0.775725\n",
       "Off-White Force-1     0.636795\n",
       "Off-White Presto      0.774175\n",
       "Off-White React       0.575153\n",
       "Off-White VaporMax    0.600749\n",
       "Off-White Zoom        0.418052\n",
       "Yeezy Boost 350       0.800589\n",
       "Yeezy Boost 350 V2    0.320942\n",
       "Name: Profit Margin, dtype: float64"
      ]
     },
     "execution_count": 30,
     "metadata": {},
     "output_type": "execute_result"
    }
   ],
   "source": [
    "df.groupby('Shoe Type')['Profit Margin'].mean()"
   ]
  },
  {
   "cell_type": "code",
   "execution_count": 33,
   "id": "bef8448b",
   "metadata": {},
   "outputs": [
    {
     "data": {
      "image/png": "[encoded data removed]",
      "text/plain": [
       "<Figure size 432x288 with 1 Axes>"
      ]
     },
     "metadata": {
      "needs_background": "light"
     },
     "output_type": "display_data"
    }
   ],
   "source": [
    "sns.histplot(df['Shoe Size']);"
   ]
  },
  {
   "cell_type": "code",
   "execution_count": 34,
   "id": "8c517d20",
   "metadata": {},
   "outputs": [
    {
     "data": {
      "text/plain": [
       "California              19349\n",
       "New York                16525\n",
       "Oregon                   7681\n",
       "Florida                  6376\n",
       "Texas                    5876\n",
       "New Jersey               4720\n",
       "Illinois                 3782\n",
       "Pennsylvania             3109\n",
       "Massachusetts            2903\n",
       "Michigan                 2762\n",
       "Virginia                 2058\n",
       "Ohio                     1890\n",
       "Maryland                 1870\n",
       "Washington               1863\n",
       "Georgia                  1846\n",
       "Arizona                  1398\n",
       "North Carolina           1344\n",
       "Delaware                 1242\n",
       "Connecticut              1110\n",
       "Indiana                  1026\n",
       "Colorado                  954\n",
       "Wisconsin                 840\n",
       "Nevada                    790\n",
       "Tennessee                 731\n",
       "Minnesota                 725\n",
       "Missouri                  660\n",
       "South Carolina            570\n",
       "Louisiana                 537\n",
       "Kentucky                  488\n",
       "Iowa                      460\n",
       "Alabama                   457\n",
       "Utah                      450\n",
       "Oklahoma                  412\n",
       "Hawaii                    383\n",
       "Rhode Island              347\n",
       "Kansas                    340\n",
       "District of Columbia      271\n",
       "Nebraska                  245\n",
       "New Hampshire             241\n",
       "New Mexico                231\n",
       "Arkansas                  173\n",
       "West Virginia             166\n",
       "Mississippi               163\n",
       "Maine                     132\n",
       "Idaho                     107\n",
       "Vermont                    84\n",
       "North Dakota               64\n",
       "Alaska                     61\n",
       "South Dakota               55\n",
       "Montana                    49\n",
       "Wyoming                    40\n",
       "Name: Buyer Region, dtype: int64"
      ]
     },
     "execution_count": 34,
     "metadata": {},
     "output_type": "execute_result"
    }
   ],
   "source": [
    "df['Buyer Region'].value_counts()"
   ]
  },
  {
   "cell_type": "code",
   "execution_count": 35,
   "id": "311b74e2",
   "metadata": {},
   "outputs": [],
   "source": [
    "profit = df.groupby('Buyer Region')['Profit'].sum().sort_values(ascending=False)"
   ]
  },
  {
   "cell_type": "code",
   "execution_count": 36,
   "id": "f656f4ba",
   "metadata": {},
   "outputs": [],
   "source": [
    "prof = pd.DataFrame(profit)"
   ]
  },
  {
   "cell_type": "code",
   "execution_count": 37,
   "id": "6f88db74",
   "metadata": {},
   "outputs": [],
   "source": [
    "most_prof = prof.head(20)"
   ]
  },
  {
   "cell_type": "code",
   "execution_count": 38,
   "id": "75ba962b",
   "metadata": {},
   "outputs": [
    {
     "data": {
      "text/html": [
       "<div>\n",
       "<style scoped>\n",
       "    .dataframe tbody tr th:only-of-type {\n",
       "        vertical-align: middle;\n",
       "    }\n",
       "\n",
       "    .dataframe tbody tr th {\n",
       "        vertical-align: top;\n",
       "    }\n",
       "\n",
       "    .dataframe thead th {\n",
       "        text-align: right;\n",
       "    }\n",
       "</style>\n",
       "<table border=\"1\" class=\"dataframe\">\n",
       "  <thead>\n",
       "    <tr style=\"text-align: right;\">\n",
       "      <th></th>\n",
       "      <th>Profit</th>\n",
       "    </tr>\n",
       "    <tr>\n",
       "      <th>Buyer Region</th>\n",
       "      <th></th>\n",
       "    </tr>\n",
       "  </thead>\n",
       "  <tbody>\n",
       "    <tr>\n",
       "      <th>California</th>\n",
       "      <td>5251834</td>\n",
       "    </tr>\n",
       "    <tr>\n",
       "      <th>New York</th>\n",
       "      <td>3860727</td>\n",
       "    </tr>\n",
       "    <tr>\n",
       "      <th>Oregon</th>\n",
       "      <td>2023251</td>\n",
       "    </tr>\n",
       "    <tr>\n",
       "      <th>Florida</th>\n",
       "      <td>1516674</td>\n",
       "    </tr>\n",
       "    <tr>\n",
       "      <th>Texas</th>\n",
       "      <td>1216426</td>\n",
       "    </tr>\n",
       "    <tr>\n",
       "      <th>New Jersey</th>\n",
       "      <td>1134251</td>\n",
       "    </tr>\n",
       "    <tr>\n",
       "      <th>Illinois</th>\n",
       "      <td>831076</td>\n",
       "    </tr>\n",
       "    <tr>\n",
       "      <th>Pennsylvania</th>\n",
       "      <td>654021</td>\n",
       "    </tr>\n",
       "    <tr>\n",
       "      <th>Massachusetts</th>\n",
       "      <td>637640</td>\n",
       "    </tr>\n",
       "    <tr>\n",
       "      <th>Michigan</th>\n",
       "      <td>569063</td>\n",
       "    </tr>\n",
       "    <tr>\n",
       "      <th>Virginia</th>\n",
       "      <td>498227</td>\n",
       "    </tr>\n",
       "    <tr>\n",
       "      <th>Washington</th>\n",
       "      <td>438492</td>\n",
       "    </tr>\n",
       "    <tr>\n",
       "      <th>Maryland</th>\n",
       "      <td>419212</td>\n",
       "    </tr>\n",
       "    <tr>\n",
       "      <th>Ohio</th>\n",
       "      <td>413286</td>\n",
       "    </tr>\n",
       "    <tr>\n",
       "      <th>Georgia</th>\n",
       "      <td>408619</td>\n",
       "    </tr>\n",
       "    <tr>\n",
       "      <th>Delaware</th>\n",
       "      <td>369683</td>\n",
       "    </tr>\n",
       "    <tr>\n",
       "      <th>Arizona</th>\n",
       "      <td>336026</td>\n",
       "    </tr>\n",
       "    <tr>\n",
       "      <th>North Carolina</th>\n",
       "      <td>280762</td>\n",
       "    </tr>\n",
       "    <tr>\n",
       "      <th>Connecticut</th>\n",
       "      <td>223812</td>\n",
       "    </tr>\n",
       "    <tr>\n",
       "      <th>Nevada</th>\n",
       "      <td>220261</td>\n",
       "    </tr>\n",
       "  </tbody>\n",
       "</table>\n",
       "</div>"
      ],
      "text/plain": [
       "                 Profit\n",
       "Buyer Region           \n",
       "California      5251834\n",
       "New York        3860727\n",
       "Oregon          2023251\n",
       "Florida         1516674\n",
       "Texas           1216426\n",
       "New Jersey      1134251\n",
       "Illinois         831076\n",
       "Pennsylvania     654021\n",
       "Massachusetts    637640\n",
       "Michigan         569063\n",
       "Virginia         498227\n",
       "Washington       438492\n",
       "Maryland         419212\n",
       "Ohio             413286\n",
       "Georgia          408619\n",
       "Delaware         369683\n",
       "Arizona          336026\n",
       "North Carolina   280762\n",
       "Connecticut      223812\n",
       "Nevada           220261"
      ]
     },
     "execution_count": 38,
     "metadata": {},
     "output_type": "execute_result"
    }
   ],
   "source": [
    "most_prof"
   ]
  },
  {
   "cell_type": "code",
   "execution_count": 39,
   "id": "9144429c",
   "metadata": {
    "scrolled": true
   },
   "outputs": [
    {
     "data": {
      "image/png": "[encoded data removed]",
      "text/plain": [
       "<Figure size 432x288 with 1 Axes>"
      ]
     },
     "metadata": {
      "needs_background": "light"
     },
     "output_type": "display_data"
    }
   ],
   "source": [
    "sns.scatterplot(x='Buyer Region', y='Profit', data=most_prof)\n",
    "plt.xticks(rotation=90)\n",
    "plt.yticks(np.arange(200000,6000000,500000))\n",
    "plt.ylabel(\"Seller Profit (millions)\")\n",
    "plt.show()"
   ]
  },
  {
   "cell_type": "code",
   "execution_count": 40,
   "id": "0d3748db",
   "metadata": {},
   "outputs": [
    {
     "data": {
      "text/plain": [
       "Index(['Order Date', 'Brand', 'Sneaker Name', 'Sale Price', 'Retail Price',\n",
       "       'Release Date', 'Shoe Size', 'Buyer Region', 'Shoe Type', 'Profit',\n",
       "       'Profit Margin'],\n",
       "      dtype='object')"
      ]
     },
     "execution_count": 40,
     "metadata": {},
     "output_type": "execute_result"
    }
   ],
   "source": [
    "df.columns"
   ]
  },
  {
   "cell_type": "code",
   "execution_count": 41,
   "id": "89a6f6f7",
   "metadata": {},
   "outputs": [],
   "source": [
    "shoe_prof = df.groupby('Shoe Type')['Profit'].sum().sort_values(ascending=False)"
   ]
  },
  {
   "cell_type": "code",
   "execution_count": 42,
   "id": "deb442e5",
   "metadata": {},
   "outputs": [],
   "source": [
    "shoe_profit = pd.DataFrame(shoe_prof)"
   ]
  },
  {
   "cell_type": "code",
   "execution_count": 43,
   "id": "0e887df0",
   "metadata": {},
   "outputs": [
    {
     "data": {
      "text/html": [
       "<div>\n",
       "<style scoped>\n",
       "    .dataframe tbody tr th:only-of-type {\n",
       "        vertical-align: middle;\n",
       "    }\n",
       "\n",
       "    .dataframe tbody tr th {\n",
       "        vertical-align: top;\n",
       "    }\n",
       "\n",
       "    .dataframe thead th {\n",
       "        text-align: right;\n",
       "    }\n",
       "</style>\n",
       "<table border=\"1\" class=\"dataframe\">\n",
       "  <thead>\n",
       "    <tr style=\"text-align: right;\">\n",
       "      <th></th>\n",
       "      <th>Profit</th>\n",
       "    </tr>\n",
       "    <tr>\n",
       "      <th>Shoe Type</th>\n",
       "      <th></th>\n",
       "    </tr>\n",
       "  </thead>\n",
       "  <tbody>\n",
       "    <tr>\n",
       "      <th>Yeezy Boost 350 V2</th>\n",
       "      <td>9725388</td>\n",
       "    </tr>\n",
       "    <tr>\n",
       "      <th>Off-White 1-Retro</th>\n",
       "      <td>4767895</td>\n",
       "    </tr>\n",
       "    <tr>\n",
       "      <th>Off-White Presto</th>\n",
       "      <td>2609372</td>\n",
       "    </tr>\n",
       "    <tr>\n",
       "      <th>Off-White Blazer</th>\n",
       "      <td>1712764</td>\n",
       "    </tr>\n",
       "    <tr>\n",
       "      <th>Off-White Air-Max</th>\n",
       "      <td>1612528</td>\n",
       "    </tr>\n",
       "    <tr>\n",
       "      <th>Off-White VaporMax</th>\n",
       "      <td>1359608</td>\n",
       "    </tr>\n",
       "    <tr>\n",
       "      <th>Off-White Force-1</th>\n",
       "      <td>840066</td>\n",
       "    </tr>\n",
       "    <tr>\n",
       "      <th>Off-White Zoom</th>\n",
       "      <td>632524</td>\n",
       "    </tr>\n",
       "    <tr>\n",
       "      <th>Yeezy Boost 350</th>\n",
       "      <td>388741</td>\n",
       "    </tr>\n",
       "    <tr>\n",
       "      <th>Off-White React</th>\n",
       "      <td>142754</td>\n",
       "    </tr>\n",
       "  </tbody>\n",
       "</table>\n",
       "</div>"
      ],
      "text/plain": [
       "                     Profit\n",
       "Shoe Type                  \n",
       "Yeezy Boost 350 V2  9725388\n",
       "Off-White 1-Retro   4767895\n",
       "Off-White Presto    2609372\n",
       "Off-White Blazer    1712764\n",
       "Off-White Air-Max   1612528\n",
       "Off-White VaporMax  1359608\n",
       "Off-White Force-1    840066\n",
       "Off-White Zoom       632524\n",
       "Yeezy Boost 350      388741\n",
       "Off-White React      142754"
      ]
     },
     "execution_count": 43,
     "metadata": {},
     "output_type": "execute_result"
    }
   ],
   "source": [
    "shoe_profit"
   ]
  },
  {
   "cell_type": "code",
   "execution_count": 44,
   "id": "da239d78",
   "metadata": {},
   "outputs": [
    {
     "data": {
      "image/png": "[encoded data removed]",
      "text/plain": [
       "<Figure size 432x288 with 1 Axes>"
      ]
     },
     "metadata": {
      "needs_background": "light"
     },
     "output_type": "display_data"
    }
   ],
   "source": [
    "sns.scatterplot(x='Shoe Type', y='Profit', data=shoe_profit)\n",
    "plt.xticks(rotation=90)\n",
    "plt.yticks(np.arange(0,10000000,1000000))\n",
    "plt.ylabel(\"Seller Profit (millions)\")\n",
    "plt.show()"
   ]
  }
 ],
 "metadata": {
  "kernelspec": {
   "display_name": "Python 3 (ipykernel)",
   "language": "python",
   "name": "python3"
  },
  "language_info": {
   "codemirror_mode": {
    "name": "ipython",
    "version": 3
   },
   "file_extension": ".py",
   "mimetype": "text/x-python",
   "name": "python",
   "nbconvert_exporter": "python",
   "pygments_lexer": "ipython3",
   "version": "3.10.7"
  }
 },
 "nbformat": 4,
 "nbformat_minor": 5
}
